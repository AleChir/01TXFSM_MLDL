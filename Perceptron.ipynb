{
 "cells": [
  {
   "cell_type": "code",
   "execution_count": null,
   "metadata": {},
   "outputs": [],
   "source": [
    "import numpy as np\n",
    "\n",
    "class Perceptron:\n",
    "    \"\"\"\n",
    "    Basic perceptron implementation.\n",
    "    \n",
    "    Parameters\n",
    "    -----------------\n",
    "    lr : float\n",
    "        Learning rate in range [0.0 , 1.0].\n",
    "    \n",
    "    iterations : int\n",
    "        Number of iterations over the dataset.\n",
    "        \n",
    "    random_state : int\n",
    "        Seed for weight initialization.\n",
    "      \n",
    "    Attributes\n",
    "    -----------------\n",
    "    w_ : 1d-array\n",
    "        Weights after calling the fit method.\n",
    "    \n",
    "    err_ : list\n",
    "        Number of misclassified examples in each epoch.\n",
    "    \"\"\"\n",
    "    \n",
    "    def __init__(self, lr=0.01, iterations=50, random_state=1):\n",
    "        self.lr = lr\n",
    "        self.iterations = iterations\n",
    "        self.random_state = random_state\n",
    "    \n",
    "    def fit(self, X, y):\n",
    "        pass\n",
    "    \n",
    "    \n",
    "    def dot_prod(self, X):\n",
    "        pass\n",
    "    \n",
    "    def predict(self, X):\n",
    "        pass\n",
    "    \n",
    "    def plot_error(self):\n",
    "        pass"
   ]
  }
 ],
 "metadata": {
  "kernelspec": {
   "display_name": "Python 3",
   "language": "python",
   "name": "python3"
  },
  "language_info": {
   "codemirror_mode": {
    "name": "ipython",
    "version": 3
   },
   "file_extension": ".py",
   "mimetype": "text/x-python",
   "name": "python",
   "nbconvert_exporter": "python",
   "pygments_lexer": "ipython3",
   "version": "3.8.5"
  }
 },
 "nbformat": 4,
 "nbformat_minor": 4
}
